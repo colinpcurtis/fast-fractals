{
 "cells": [
  {
   "cell_type": "code",
   "execution_count": null,
   "metadata": {},
   "outputs": [],
   "source": [
    "import numpy as np\n",
    "import matplotlib.pyplot as plt\n",
    "from tqdm import tqdm\n",
    "%matplotlib inline\n",
    "\n",
    "num_idx = 1024\n",
    "\n",
    "lower_bound = -2\n",
    "upper_bound = 1.5\n",
    "\n",
    "real_line = np.linspace(lower_bound, upper_bound, num=num_idx)\n",
    "imag_line = np.linspace(lower_bound, upper_bound, num=num_idx)\n",
    "\n",
    "def does_converge(const, iters=100):\n",
    "    z = 0\n",
    "    for i in range(iters):\n",
    "        z_next = np.power(z, 2) + const\n",
    "        z = z_next\n",
    "        if np.abs(z) >= 4:\n",
    "            return False\n",
    "    return True\n",
    "\n",
    "fig = plt.figure(figsize=(10, 10))\n",
    "ax = plt.axes()\n",
    "\n",
    "X = np.empty((len(real_line), len(imag_line)))\n",
    "\n",
    "for i in tqdm(range(len(real_line))):\n",
    "    for j in range(len(imag_line)):\n",
    "        num = complex(real_line[i], imag_line[j])\n",
    "        X[i, j] = 200 if does_converge(num) else 0\n",
    "\n",
    "ax.imshow(X.T, interpolation=\"bilinear\", cmap='magma')\n",
    "ax.axis(\"off\")\n",
    "plt.show()"
   ]
  }
 ],
 "metadata": {
  "kernelspec": {
   "display_name": "Python 3",
   "language": "python",
   "name": "python3"
  },
  "language_info": {
   "codemirror_mode": {
    "name": "ipython",
    "version": 3
   },
   "file_extension": ".py",
   "mimetype": "text/x-python",
   "name": "python",
   "nbconvert_exporter": "python",
   "pygments_lexer": "ipython3",
   "version": "3.9.10"
  }
 },
 "nbformat": 4,
 "nbformat_minor": 2
}
